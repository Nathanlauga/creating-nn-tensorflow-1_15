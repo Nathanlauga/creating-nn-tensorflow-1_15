{
 "cells": [
  {
   "cell_type": "markdown",
   "metadata": {},
   "source": [
    "# Creating a basic neural network with Tensorflow v1.15\n",
    "\n",
    "This notebook is inspired by some code available in the [Coursera Deep Learning Specialization](https://www.coursera.org/specializations/deep-learning#courses) and has the goal to reproduce the same logic as [Tensorflow playground](https://playground.tensorflow.org/) but in Python.\n",
    "\n",
    "So in summary you'll be able to choose the following hyperparameters :\n",
    "- number of hidden layers\n",
    "- number of units in each layers\n",
    "- loss function\n",
    "- activation per layer\n",
    "- optimizer to use\n",
    "- learning rate\n",
    "- batch size\n",
    "\n",
    "## Data used\n",
    "\n",
    "This notebook's goal is to create a few neural networks with `tensorflow 1.15` and try to submit the result into Kaggle.\n",
    "\n",
    "[Competition link](https://www.kaggle.com/c/house-prices-advanced-regression-techniques/).\n",
    "\n",
    "## Import packages"
   ]
  },
  {
   "cell_type": "code",
   "execution_count": 1,
   "metadata": {},
   "outputs": [],
   "source": [
    "import sklearn\n",
    "import tensorflow as tf\n",
    "import numpy as np\n",
    "import pandas as pd\n",
    "import matplotlib.pyplot as plt\n",
    "import os\n",
    "\n",
    "from IPython.display import display, Markdown\n",
    "\n",
    "from sklearn.model_selection import train_test_split\n",
    "\n",
    "import warnings\n",
    "warnings.filterwarnings('ignore')"
   ]
  },
  {
   "cell_type": "markdown",
   "metadata": {},
   "source": [
    "## Check GPU is working"
   ]
  },
  {
   "cell_type": "code",
   "execution_count": 2,
   "metadata": {},
   "outputs": [
    {
     "data": {
      "text/plain": [
       "[_DeviceAttributes(/job:localhost/replica:0/task:0/device:CPU:0, CPU, 268435456, 10038302858391953019),\n",
       " _DeviceAttributes(/job:localhost/replica:0/task:0/device:XLA_CPU:0, XLA_CPU, 17179869184, 9300626239435706983),\n",
       " _DeviceAttributes(/job:localhost/replica:0/task:0/device:XLA_GPU:0, XLA_GPU, 17179869184, 2898054394965409782),\n",
       " _DeviceAttributes(/job:localhost/replica:0/task:0/device:GPU:0, GPU, 1267990528, 17442708505485129454)]"
      ]
     },
     "execution_count": 2,
     "metadata": {},
     "output_type": "execute_result"
    }
   ],
   "source": [
    "with tf.Session() as sess:\n",
    "    devices = sess.list_devices()\n",
    "sess.close()\n",
    "\n",
    "devices"
   ]
  },
  {
   "cell_type": "code",
   "execution_count": 3,
   "metadata": {},
   "outputs": [
    {
     "data": {
      "text/plain": [
       "True"
      ]
     },
     "execution_count": 3,
     "metadata": {},
     "output_type": "execute_result"
    }
   ],
   "source": [
    "tf.test.is_gpu_available(\n",
    "    cuda_only=False, min_cuda_compute_capability=None\n",
    ")"
   ]
  },
  {
   "cell_type": "markdown",
   "metadata": {},
   "source": [
    "## Load data"
   ]
  },
  {
   "cell_type": "code",
   "execution_count": 4,
   "metadata": {},
   "outputs": [],
   "source": [
    "train = pd.read_csv('data/train.csv')\n",
    "test = pd.read_csv('data/test.csv')"
   ]
  },
  {
   "cell_type": "markdown",
   "metadata": {},
   "source": [
    "## Prepare data"
   ]
  },
  {
   "cell_type": "code",
   "execution_count": 5,
   "metadata": {},
   "outputs": [
    {
     "data": {
      "text/plain": [
       "(1460, 81)"
      ]
     },
     "execution_count": 5,
     "metadata": {},
     "output_type": "execute_result"
    }
   ],
   "source": [
    "train.shape"
   ]
  },
  {
   "cell_type": "code",
   "execution_count": 67,
   "metadata": {},
   "outputs": [],
   "source": [
    "target = 'SalePrice'\n",
    "# cols_to_keep = ['LotArea', 'TotalBsmtSF'] + [target]"
   ]
  },
  {
   "cell_type": "markdown",
   "metadata": {},
   "source": [
    "Select variable correlated with target `SalePrice` (threshold > 0.1)"
   ]
  },
  {
   "cell_type": "code",
   "execution_count": null,
   "metadata": {},
   "outputs": [],
   "source": [
    "# Define function to get weighted correlation \n",
    "# for categoricals variable\n",
    "\n",
    "def corr_num_cat_var(df, num_var, cat_var):\n",
    "    \"\"\"Compute weighted correlation for a \n",
    "    categorical variable.\n",
    "    \n",
    "    \"\"\"\n",
    "    dummies = pd.get_dummies(df[cat_var])\n",
    "    sum_df = dummies.sum()\n",
    "    \n",
    "    dummies[num_var] = df[num_var]\n",
    "    corr = dummies.corr()\n",
    "    corr = corr[num_var].iloc[:-1]\n",
    "    \n",
    "    weighted_corr = np.sum(corr*sum_df) / len(df)\n",
    "    \n",
    "    return weighted_corr\n",
    "\n",
    "def get_correlatd_cat_feats(df, target, threshold):\n",
    "    \"\"\"Returns feature names that\n",
    "    are correlated to the target\n",
    "    \n",
    "    Parameters\n",
    "    ----------\n",
    "    df: pd.DataFrame\n",
    "        Dataframe to work on\n",
    "    target: str\n",
    "        target name\n",
    "    threshold: float\n",
    "        correlation threshold to keep feature\n",
    "        \n",
    "    Returns\n",
    "    -------\n",
    "    list:\n",
    "        list of categorical features to keep\n",
    "    \"\"\"\n",
    "    cat_vars = train.select_dtypes('object').columns\n",
    "    corr_df = pd.Series()\n",
    "\n",
    "    for cat_var in cat_vars:\n",
    "        corr = corr_num_cat_var(train, target, cat_var)\n",
    "        corr_df.loc[cat_var] = corr\n",
    "\n",
    "    cat_feats = corr_df[corr_df.abs() > threshold].index.tolist()\n",
    "    return cat_feats"
   ]
  },
  {
   "cell_type": "code",
   "execution_count": null,
   "metadata": {},
   "outputs": [],
   "source": [
    "corr = train.corr()[target]\n",
    "\n",
    "threshold = 0.1\n",
    "num_feats = corr[corr.abs() > threshold].index.tolist()\n",
    "cat_feats = get_correlatd_cat_feats(train, target, threshold)\n",
    "\n",
    "cols_to_keep = num_feat + cat_feat"
   ]
  },
  {
   "cell_type": "code",
   "execution_count": null,
   "metadata": {},
   "outputs": [],
   "source": [
    "df_na = train[cols_to_keep].isna().sum()\n",
    "df_na[df_na > 0]"
   ]
  },
  {
   "cell_type": "markdown",
   "metadata": {},
   "source": [
    "#### Create preparation pipeline"
   ]
  },
  {
   "cell_type": "code",
   "execution_count": null,
   "metadata": {},
   "outputs": [],
   "source": [
    "from sklearn.preprocessing import Normalizer\n",
    "\n",
    "def prepare_data(df, cols_to_keep, target, \n",
    "                 dummies_cols=None, transformer=None):\n",
    "    \"\"\"\n",
    "    \"\"\"\n",
    "    df = df[cols_to_keep]\n",
    "    num_feats = df.select_dtypes('number').columns.tolist()\n",
    "    cat_feats = df.select_dtypes('object').columns.tolist()\n",
    "    \n",
    "    if target in num_feats:\n",
    "        num_feats = [f for f in num_feats if f != target]\n",
    "    \n",
    "    # Missing values\n",
    "    df[num_feats] = df[num_feats].fillna(0)\n",
    "    df[cat_feats] = df[cat_feats].fillna('Missing value')\n",
    "    \n",
    "    dummies_exists = dummies_cols is not None\n",
    "    if not dummies_exists:\n",
    "        dummies_cols = list()\n",
    "    else:\n",
    "        for c in dummies_cols:\n",
    "            df[c] = 0\n",
    "    \n",
    "    for feature in cat_feats:\n",
    "        dummies = pd.get_dummies(df[feature], prefix=feature)\n",
    "        if not dummies_exists:\n",
    "            df[dummies.columns] = dummies\n",
    "            dummies_cols += dummies.columns.tolist()\n",
    "        else:\n",
    "            for c in dummies.columns:\n",
    "                if c in dummies_cols:\n",
    "                    df[c] = dummies[c]\n",
    "                    \n",
    "        df = df.drop(columns=feature)\n",
    "    \n",
    "    if transformer is None:\n",
    "        transformer = Normalizer().fit(df[num_feats])\n",
    "\n",
    "    df[num_feats] = transformer.transform(df[num_feats])\n",
    "    \n",
    "    return df, transformer, dummies_cols"
   ]
  },
  {
   "cell_type": "code",
   "execution_count": null,
   "metadata": {},
   "outputs": [],
   "source": [
    "train_df, transformer, dummies_cols = prepare_data(train, cols_to_keep, target)"
   ]
  },
  {
   "cell_type": "markdown",
   "metadata": {},
   "source": [
    "## split train test"
   ]
  },
  {
   "cell_type": "code",
   "execution_count": 69,
   "metadata": {},
   "outputs": [],
   "source": [
    "def get_train_test(df):\n",
    "    X, y = df.drop(columns=target), df[target]\n",
    "    X_train, X_test, y_train, y_test = train_test_split(X, y, test_size=0.2, random_state=42)\n",
    "    \n",
    "    return X_train, X_test, y_train, y_test"
   ]
  },
  {
   "cell_type": "code",
   "execution_count": 70,
   "metadata": {},
   "outputs": [],
   "source": [
    "X_train, X_test, y_train, y_test = get_train_test(train_df)"
   ]
  },
  {
   "cell_type": "markdown",
   "metadata": {},
   "source": [
    "## Create NN\n",
    "\n",
    "### Initialize Weight and bias"
   ]
  },
  {
   "cell_type": "code",
   "execution_count": 10,
   "metadata": {},
   "outputs": [],
   "source": [
    "def initialize_parameters(n_units, n_features, n_units_output=1):    \n",
    "    \"\"\"Initialize parameters Weight and bias and stored them\n",
    "    in a dictionnary following this format : {'Wl': tf.Variable, 'bl': tf.Variable, ...}.\n",
    "    \n",
    "    Where `l` is the layer number. \n",
    "    \n",
    "    The dictionnary also store number of layers L (output layer include)\n",
    "    \n",
    "    Parameters\n",
    "    ----------\n",
    "    n_units: list\n",
    "        list of number of units per layer\n",
    "    n_features: int\n",
    "        number of features at input layer\n",
    "    n_units_output: int (default 1)\n",
    "        number of units at output layer\n",
    "        \n",
    "    Returns\n",
    "    -------\n",
    "    dict:\n",
    "        Dictionnary of parameters    \n",
    "    \"\"\"\n",
    "    tf.set_random_seed(1) \n",
    "    parameters = {}\n",
    "\n",
    "    n_units += [n_units_output]    \n",
    "    n_layers = len(n_units)\n",
    "    \n",
    "    parameters['L'] = n_layers\n",
    "    \n",
    "    for l in range(0,n_layers):\n",
    "        num_units = n_units[l]   \n",
    "        W = f'W{l}'\n",
    "        b = f'b{l}'\n",
    "\n",
    "        prev_n_units = n_features if l == 0 else n_units[l-1]\n",
    "\n",
    "        # Using Xavier initializer for Weight \n",
    "        # Todo custom\n",
    "        parameters[W] = tf.get_variable(name=W, shape=[prev_n_units, num_units], \n",
    "                                        initializer = tf.contrib.layers.xavier_initializer())\n",
    "        # Using zeros initializer for bias\n",
    "        parameters[b] = tf.get_variable(name=b, shape=[1,num_units], \n",
    "                                        initializer = tf.zeros_initializer())\n",
    "\n",
    "    return parameters"
   ]
  },
  {
   "cell_type": "code",
   "execution_count": 11,
   "metadata": {},
   "outputs": [
    {
     "name": "stdout",
     "output_type": "stream",
     "text": [
      "WARNING:tensorflow:\n",
      "The TensorFlow contrib module will not be included in TensorFlow 2.0.\n",
      "For more information, please see:\n",
      "  * https://github.com/tensorflow/community/blob/master/rfcs/20180907-contrib-sunset.md\n",
      "  * https://github.com/tensorflow/addons\n",
      "  * https://github.com/tensorflow/io (for I/O related ops)\n",
      "If you depend on functionality not listed there, please file an issue.\n",
      "\n"
     ]
    },
    {
     "data": {
      "text/plain": [
       "{'L': 3,\n",
       " 'W0': <tf.Variable 'W0:0' shape=(20, 10) dtype=float32_ref>,\n",
       " 'b0': <tf.Variable 'b0:0' shape=(1, 10) dtype=float32_ref>,\n",
       " 'W1': <tf.Variable 'W1:0' shape=(10, 5) dtype=float32_ref>,\n",
       " 'b1': <tf.Variable 'b1:0' shape=(1, 5) dtype=float32_ref>,\n",
       " 'W2': <tf.Variable 'W2:0' shape=(5, 2) dtype=float32_ref>,\n",
       " 'b2': <tf.Variable 'b2:0' shape=(1, 2) dtype=float32_ref>}"
      ]
     },
     "execution_count": 11,
     "metadata": {},
     "output_type": "execute_result"
    }
   ],
   "source": [
    "# Test for a NN with 2 hidden layers, 20 features and 2 output units\n",
    "tf.reset_default_graph()   \n",
    "\n",
    "initialize_parameters(n_units=[10,5], n_features=20, n_units_output=2)"
   ]
  },
  {
   "cell_type": "markdown",
   "metadata": {},
   "source": [
    "### Compute forward propagation"
   ]
  },
  {
   "cell_type": "code",
   "execution_count": 12,
   "metadata": {},
   "outputs": [],
   "source": [
    "def compute_layer(A, parameters, layer, activation='relu'):\n",
    "    \"\"\"Compute calculus for a given layer\n",
    "    \n",
    "    Follow this formula : Z_l = A_{l-1} * W_l + b_l\n",
    "    \n",
    "    if activation is set then this function returns : \n",
    "    A_l = activation_function(Z_l) \n",
    "    \n",
    "    Where :\n",
    "    - A is (1, nb units prev layer)\n",
    "    - W is (nb units prev layer, nb units current layer)\n",
    "    - b is (1, nb units current layer)\n",
    "    \n",
    "    Parameters\n",
    "    ----------\n",
    "    A: tf.Variable\n",
    "        output of the previous layer\n",
    "    parameters: dict\n",
    "        Dictionnary of parameters  \n",
    "    layer: int\n",
    "        number of the current layer\n",
    "    activation: str (default relu)\n",
    "        activation function, if None then just \n",
    "        compute the linear calculus\n",
    "        \n",
    "    Returns\n",
    "    -------\n",
    "    tf.Variable\n",
    "        Output of the layer calculus\n",
    "    \"\"\"\n",
    "    W = parameters['W'+str(layer)]\n",
    "    b = parameters['b'+str(layer)]\n",
    "    \n",
    "    Z = tf.add(tf.matmul(A,W), b, name=f'Z{layer}')\n",
    "    \n",
    "    if activation is not None:\n",
    "        return tf.nn.relu(Z, name=f'A{layer}') \n",
    "    \n",
    "    return Z\n",
    "\n",
    "def forward_propagation(X, parameters, activation='relu'):\n",
    "    \"\"\"Compute forward propagation given input X and\n",
    "    initialized parameters.\n",
    "    \n",
    "    You can custom activation functionfor the hidden layers\n",
    "    \n",
    "    Parameters\n",
    "    ----------\n",
    "    X: tf.Variable\n",
    "        input data shape (n_rows, n_features) \n",
    "    parameters: dict\n",
    "        Dictionnary of parameters  \n",
    "    activation: str (default relu)\n",
    "        activation function for hidden layers\n",
    "        \n",
    "    Returns\n",
    "    -------\n",
    "    tf.Variable\n",
    "        Prediction output shape (n_rows, n_units_output)\n",
    "    \"\"\"\n",
    "    A = X\n",
    "    if 'L' not in parameters:\n",
    "        n_layers = int(len(parameters) / 2)\n",
    "    else:\n",
    "        n_layers = parameters['L']\n",
    "    \n",
    "    for l in range(0, n_layers):\n",
    "        act_l = activation if l != n_layers-1 else None\n",
    "        \n",
    "        A = compute_layer(A, parameters, layer=l, activation=act_l)\n",
    "    \n",
    "    return A"
   ]
  },
  {
   "cell_type": "code",
   "execution_count": 13,
   "metadata": {},
   "outputs": [
    {
     "data": {
      "text/plain": [
       "<tf.Tensor 'Z2:0' shape=(?, 2) dtype=float32>"
      ]
     },
     "execution_count": 13,
     "metadata": {},
     "output_type": "execute_result"
    }
   ],
   "source": [
    "# Test for a NN with 2 hidden layers, 20 features and 2 output units\n",
    "tf.reset_default_graph()   \n",
    "\n",
    "parameters = initialize_parameters(n_units=[10,5], n_features=20, n_units_output=2)\n",
    "\n",
    "X = tf.placeholder(tf.float32, shape=(None, 20), name='X')\n",
    "\n",
    "forward_propagation(X, parameters, activation='relu')"
   ]
  },
  {
   "cell_type": "markdown",
   "metadata": {},
   "source": [
    "### Compute cost\n",
    "\n",
    "Handle the following cost function :\n",
    "\n",
    "-----\n",
    "\n",
    "- `MSE`: Mean square Error (or Quadratic Loss or L2 Loss)\n",
    "\n",
    "$MSE = \\frac{1}{n}\\sum_{i=1}^{n}{(y_i - \\hat{y_i})^2}$\n",
    "\n",
    "```python\n",
    "def loss(Y_pred, Y_real):\n",
    "    return tf.reduce_mean(tf.square(Y_pred - Y_real))\n",
    "```\n",
    "\n",
    "-----\n",
    "- `RMSE`: Root Mean square Error \n",
    "\n",
    "$RMSE = \\sqrt{\\frac{1}{n}\\sum_{i=1}^{n}{(y_i - \\hat{y_i})^2}}$\n",
    "\n",
    "```python\n",
    "def loss(Y_pred, Y_real):\n",
    "    return tf.sqrt(tf.reduce_mean(tf.square(Y_pred - Y_real)))\n",
    "```\n",
    "-----\n",
    "- `RMSE log`: Root Mean square Error (log values)\n",
    "\n",
    "$RMSE = \\sqrt{\\frac{1}{n}\\sum_{i=1}^{n}{(\\log{(y_i)} - \\log{(\\hat{y_i})})^2}}$\n",
    "\n",
    "```python\n",
    "def loss(Y_pred, Y_real):\n",
    "    return tf.sqrt(tf.reduce_mean(tf.abs(tf.log(Y_pred) - tf.log(Y_real))))\n",
    "```\n",
    "\n",
    "-----\n",
    "- `MAE`: Mean Absolute Error (or L1 Loss)\n",
    "\n",
    "$MAE = \\frac{1}{n} \\sum_{i=1}^{n}{|y_i - \\hat{y_i}|}$\n",
    "\n",
    "```python\n",
    "def loss(Y_pred, Y_real):\n",
    "    return tf.reduce_mean(tf.abs(Y_pred - Y_real))\n",
    "```\n",
    "\n",
    "-----\n",
    "- `Entropy`: Cross Entropy Loss (or Negative Log Likelihood)\n",
    "\n",
    "$\\text{Cross Entropy Loss} = - (y_i\\log{\\hat{y_i}} + (1-y_i)\\log{1-\\hat{y_i}})$\n",
    "\n",
    "```python\n",
    "def loss(Y_pred, Y_real):\n",
    "    return tf.reduce_mean(tf.nn.softmax_cross_entropy_with_logits_v2(labels, logits))\n",
    "\n",
    "```"
   ]
  },
  {
   "cell_type": "code",
   "execution_count": 14,
   "metadata": {},
   "outputs": [],
   "source": [
    "def compute_loss(Y_pred, Y_real, loss='RMSE'):\n",
    "    \"\"\"Compute loss given a loss function\n",
    "    \n",
    "    Loss available : \n",
    "    - MSE\n",
    "    - RMSE\n",
    "    - RMSE log\n",
    "    - MAE\n",
    "    - Entropy\n",
    "    \n",
    "    Parameters\n",
    "    ----------\n",
    "    Y_pred: tf.Variable\n",
    "        Predictions from the model\n",
    "    Y_real: tf.Variable\n",
    "        Real output\n",
    "    loss: str (default RMSE)\n",
    "        loss function to compute\n",
    "        \n",
    "    Returns\n",
    "    -------\n",
    "    tf.Variable:\n",
    "        Loss of the model\n",
    "    \"\"\"\n",
    "    if loss == 'MSE':\n",
    "        return tf.reduce_mean(tf.square(Y_pred - Y_real), name='loss')\n",
    "    \n",
    "    elif loss == 'RMSE':\n",
    "        return tf.sqrt(tf.reduce_mean(tf.square(Y_pred - Y_real)), name='loss')\n",
    "    \n",
    "    elif loss == 'RMSE log':\n",
    "        return tf.sqrt(tf.reduce_mean(tf.square(tf.log(Y_pred) - tf.log(Y_real)), name='loss'))\n",
    "        \n",
    "    elif loss == 'MAE':\n",
    "        return tf.reduce_mean(tf.abs(Y_pred - Y_real), name='loss')\n",
    "    \n",
    "    elif loss == 'Entropy':\n",
    "        return tf.reduce_mean(tf.nn.softmax_cross_entropy_with_logits_v2(Y_real, Y_pred), name='loss')\n",
    "    \n",
    "    return None\n"
   ]
  },
  {
   "cell_type": "code",
   "execution_count": 15,
   "metadata": {},
   "outputs": [],
   "source": [
    "# Test\n",
    "tf.reset_default_graph()   \n",
    "\n",
    "parameters = initialize_parameters(n_units=[10], n_features=5)\n",
    "\n",
    "X = tf.placeholder(tf.float32, shape=(None, 5), name='X')\n",
    "Y = tf.placeholder(tf.float32, shape=(None, 1), name='Y')\n",
    "\n",
    "Y_pred = forward_propagation(X, parameters, activation='relu')"
   ]
  },
  {
   "cell_type": "code",
   "execution_count": 16,
   "metadata": {},
   "outputs": [
    {
     "data": {
      "text/plain": [
       "<tf.Tensor 'loss:0' shape=() dtype=float32>"
      ]
     },
     "execution_count": 16,
     "metadata": {},
     "output_type": "execute_result"
    }
   ],
   "source": [
    "compute_loss(Y_pred=Y_pred, Y_real=Y, loss='MSE')"
   ]
  },
  {
   "cell_type": "code",
   "execution_count": 17,
   "metadata": {},
   "outputs": [
    {
     "data": {
      "text/plain": [
       "<tf.Tensor 'loss_1:0' shape=() dtype=float32>"
      ]
     },
     "execution_count": 17,
     "metadata": {},
     "output_type": "execute_result"
    }
   ],
   "source": [
    "compute_loss(Y_pred=Y_pred, Y_real=Y, loss='RMSE')"
   ]
  },
  {
   "cell_type": "code",
   "execution_count": 18,
   "metadata": {},
   "outputs": [
    {
     "data": {
      "text/plain": [
       "<tf.Tensor 'Sqrt:0' shape=() dtype=float32>"
      ]
     },
     "execution_count": 18,
     "metadata": {},
     "output_type": "execute_result"
    }
   ],
   "source": [
    "compute_loss(Y_pred=Y_pred, Y_real=Y, loss='RMSE log')"
   ]
  },
  {
   "cell_type": "code",
   "execution_count": 19,
   "metadata": {},
   "outputs": [
    {
     "data": {
      "text/plain": [
       "<tf.Tensor 'loss_3:0' shape=() dtype=float32>"
      ]
     },
     "execution_count": 19,
     "metadata": {},
     "output_type": "execute_result"
    }
   ],
   "source": [
    "compute_loss(Y_pred=Y_pred, Y_real=Y, loss='MAE')"
   ]
  },
  {
   "cell_type": "code",
   "execution_count": 20,
   "metadata": {},
   "outputs": [
    {
     "data": {
      "text/plain": [
       "<tf.Tensor 'loss_4:0' shape=() dtype=float32>"
      ]
     },
     "execution_count": 20,
     "metadata": {},
     "output_type": "execute_result"
    }
   ],
   "source": [
    "compute_loss(Y_pred=Y_pred, Y_real=Y, loss='Entropy')"
   ]
  },
  {
   "cell_type": "markdown",
   "metadata": {},
   "source": [
    "### Optimizer selection\n",
    "\n",
    "This the list of possible optimizer to train the neural network :\n",
    "\n",
    "- GradientDescent: [`tf.train.GradientDescentOptimizer`](https://www.tensorflow.org/versions/r1.15/api_docs/python/tf/train/GradientDescentOptimizer)\n",
    "- Momentum: [`tf.train.MomentumOptimizer`](https://www.tensorflow.org/versions/r1.15/api_docs/python/tf/train/MomentumOptimizer)\n",
    "- Adagrad: [`tf.train.AdagradOptimizer`](https://www.tensorflow.org/versions/r1.15/api_docs/python/tf/train/AdagradOptimizer)\n",
    "- Adadelta: [`tf.train.AdadeltaOptimizer`](https://www.tensorflow.org/versions/r1.15/api_docs/python/tf/train/AdadeltaOptimizer)\n",
    "- RMSProp: [`tf.train.RMSPropOptimizer`](https://www.tensorflow.org/versions/r1.15/api_docs/python/tf/train/RMSPropOptimizer)\n",
    "- Adam: [`tf.train.AdamOptimizer`](https://www.tensorflow.org/versions/r1.15/api_docs/python/tf/train/AdamOptimizer)"
   ]
  },
  {
   "cell_type": "code",
   "execution_count": 21,
   "metadata": {},
   "outputs": [],
   "source": [
    "def select_optimizer(optimizer='GradientDescent'):\n",
    "    \"\"\"Select the optimizer\n",
    "    \n",
    "    Available optimizers:\n",
    "    - GradientDescent\n",
    "    - Momentum\n",
    "    - Adagrad\n",
    "    - Adadelta\n",
    "    - RMSProp\n",
    "    - Adam\n",
    "    \n",
    "    Parameters\n",
    "    ----------\n",
    "    optimizer: str (default GradientDescent)\n",
    "        optimizer to select\n",
    "        \n",
    "    Returns\n",
    "    -------\n",
    "    tf.train.Optimizer\n",
    "        Optimizer object\n",
    "    \"\"\"\n",
    "    if optimizer == 'GradientDescent':\n",
    "        return tf.train.GradientDescentOptimizer\n",
    "    elif optimizer == 'Momentum':\n",
    "        return tf.train.MomentumOptimizer\n",
    "    elif optimizer == 'Adagrad':\n",
    "        return tf.train.AdagradOptimizer\n",
    "    elif optimizer == 'Adadelta':\n",
    "        return tf.train.AdadeltaOptimizer\n",
    "    elif optimizer == 'RMSProp':\n",
    "        return tf.train.RMSPropOptimizer\n",
    "    elif optimizer == 'Adam':\n",
    "        return tf.train.AdamOptimizer\n",
    "    \n",
    "    raise ValueError('Optimizer choosen not available please select a valid one')\n",
    "    \n",
    "    return None"
   ]
  },
  {
   "cell_type": "code",
   "execution_count": 22,
   "metadata": {},
   "outputs": [
    {
     "data": {
      "text/plain": [
       "tensorflow.python.training.adam.AdamOptimizer"
      ]
     },
     "execution_count": 22,
     "metadata": {},
     "output_type": "execute_result"
    }
   ],
   "source": [
    "select_optimizer(optimizer='Adam')"
   ]
  },
  {
   "cell_type": "markdown",
   "metadata": {},
   "source": [
    "### Tensorboard function"
   ]
  },
  {
   "cell_type": "code",
   "execution_count": 23,
   "metadata": {},
   "outputs": [],
   "source": [
    "def create_tensorboard(sess, L, grads_and_vars, loss, name='dashboard'):\n",
    "    \"\"\"\n",
    "    \"\"\"\n",
    "    if not os.path.exists('summaries'):\n",
    "        os.mkdir('summaries')\n",
    "    if not os.path.exists(os.path.join('summaries',name)):\n",
    "        os.mkdir(os.path.join('summaries',name))\n",
    "\n",
    "    summ_writer = tf.summary.FileWriter(os.path.join('summaries',name), sess.graph)    \n",
    "    \n",
    "    # tf_loss_summary :     you feed in a value by means of a placeholder, \n",
    "    #                       whenever you need to publish this to the board\n",
    "    \n",
    "    with tf.name_scope('performance'):\n",
    "        tf_loss_ph = tf.placeholder(tf.float32,shape=None,name='loss_summary')\n",
    "        tf_loss_summary = tf.summary.scalar('loss', tf_loss_ph)\n",
    "\n",
    "        \n",
    "    # tf_gradnorm_summary : this calculates the l2 norm of the gradients \n",
    "    #                       of the last layer of your neural network. \n",
    "    #                       Gradient norm is a good indicator of whether the weights \n",
    "    #                       of the neural network are being properly updated. \n",
    "    #                       A too small gradient norm can indicate vanishing gradient \n",
    "    #                       or a too large gradient can imply exploding gradient phenomenon.\n",
    "    \n",
    "    for g, v in grads_and_vars:\n",
    "        if f'W{L-1}' in v.name:\n",
    "            with tf.name_scope('gradients'):\n",
    "                tf_last_grad_norm = tf.sqrt(tf.reduce_mean(g**2))\n",
    "                tf_gradnorm_summary = tf.summary.scalar('grad_norm', tf_last_grad_norm)\n",
    "                break\n",
    "                \n",
    "    performance_summaries = tf.summary.merge([tf_loss_summary])    \n",
    "    \n",
    "    return {\n",
    "        'writer': summ_writer, \n",
    "        'loss': tf_loss_ph, \n",
    "        'gradnorm': tf_gradnorm_summary,\n",
    "        'perf': performance_summaries\n",
    "    }"
   ]
  },
  {
   "cell_type": "markdown",
   "metadata": {},
   "source": [
    "### Generate NN with optimizer for back propagation"
   ]
  },
  {
   "cell_type": "code",
   "execution_count": 138,
   "metadata": {},
   "outputs": [],
   "source": [
    "def plot_cost(train_costs, test_costs=None):\n",
    "    \"\"\"Plot the cost\n",
    "    \"\"\"\n",
    "    plt.plot(np.squeeze(train_costs), label='train')\n",
    "    if test_costs is not None:\n",
    "        plt.plot(np.squeeze(test_costs), label='test')\n",
    "    plt.ylabel('cost')\n",
    "    plt.xlabel('iterations (per fives)')\n",
    "    plt.title(\"Learning rate =\" + str(learning_rate))\n",
    "    plt.legend(loc=\"upper right\")\n",
    "    plt.show()\n",
    "    \n",
    "\n",
    "def fit(feed_dict_train, parameters, optimizer, loss, learning_rate, num_epochs,\n",
    "        epsilon, early_stopping, feed_dict_test, batch_size=None):\n",
    "    \"\"\"\n",
    "    \"\"\"\n",
    "    # TODO : implement batch size\n",
    "    \n",
    "    init = tf.global_variables_initializer()\n",
    "    train_costs = list()\n",
    "    test_costs = list()\n",
    "    num_epochs = 100000000 if num_epochs is None else num_epochs\n",
    "    L = parameters['L']\n",
    "    old_param = list()\n",
    "    \n",
    "    with tf.Session() as sess:\n",
    "        sess.run(init)\n",
    "        \n",
    "        # board = create_tensorboard(sess, L, grads_and_vars, loss, name='dashboard')\n",
    "        # summ_writer = board['writer']\n",
    "        # tf_loss_ph = board['loss']\n",
    "        # tf_gradnorm_summary = board['gradnorm']\n",
    "        # performance_summaries = board['perf']\n",
    "        \n",
    "        for epoch in range(num_epochs):\n",
    "            sess.run(optimizer, feed_dict=feed_dict_train)\n",
    "            \n",
    "            # epoch_l_train, gn_summ = sess.run([loss, tf_gradnorm_summary], feed_dict=feed_dict_train)\n",
    "            epoch_l_train = sess.run(loss, feed_dict=feed_dict_train)\n",
    "            epoch_l_test = sess.run(loss, feed_dict=feed_dict_test)\n",
    "            \n",
    "            # summ = sess.run(performance_summaries, feed_dict={tf_loss_ph: epoch_l_train})\n",
    "            \n",
    "            # summ_writer.add_summary(gn_summ, epoch)\n",
    "            # summ_writer.add_summary(summ, epoch)\n",
    "\n",
    "            if epoch % display_freq == 0:\n",
    "                lr = sess.run(learning_rate)\n",
    "                print (\"At epoch %i, learning rate is %.8f train cost is: %f and test cost is: %f\" % (\n",
    "                    epoch, lr, epoch_l_train, epoch_l_test))\n",
    "            \n",
    "            if str(epoch_l_train) == 'nan':\n",
    "                print(\"Cost is nan.\")\n",
    "                break\n",
    "            \n",
    "            train_costs.append(epoch_l_train)\n",
    "            test_costs.append(epoch_l_test)\n",
    "                \n",
    "            # Early stopping slow decrease\n",
    "            if len(train_costs) > 2:\n",
    "                if train_costs[-2] - train_costs[-1] < epsilon:\n",
    "                    print('Stop at epoch %i. because cost decrease is less than epsilon.'% (epoch))\n",
    "                    break\n",
    "                        \n",
    "            old_param.append(parameters)\n",
    "            \n",
    "            # early stopping increase\n",
    "            if epoch > early_stopping+1:\n",
    "                if train_costs[epoch] > train_costs[-early_stopping]:\n",
    "                    print('Stop at epoch %i. because training cost has increase in the last %i epochs.'% (\n",
    "                        epoch, early_stopping))\n",
    "                    \n",
    "                    parameters = old_param[-early_stopping]\n",
    "                    break\n",
    "                    \n",
    "                if test_costs[epoch] > test_costs[-early_stopping]:\n",
    "                    print('Stop at epoch %i. because validation cost has increase in the last %i epochs.'% (\n",
    "                        epoch, early_stopping))\n",
    "                    \n",
    "                    parameters = old_param[-early_stopping]\n",
    "                    break\n",
    "                    \n",
    "                \n",
    "        # Plot the cost\n",
    "        plot_cost(train_costs, test_costs)\n",
    "                \n",
    "        # lets save the parameters in a variable\n",
    "        del parameters['L'], old_param\n",
    "        parameters = sess.run(parameters)\n",
    "        print(\"Parameters have been trained!\")\n",
    "    \n",
    "    sess.close()\n",
    "    return parameters\n",
    "\n",
    "def neural_network(X_train, Y_train, X_test=None, Y_test=None,\n",
    "                   learning_rate=0.01, decay_step=1000, base_rate=0.95,\n",
    "                   num_epochs=None, epsilon=0.0001, early_stopping=10,\n",
    "                   n_units=[1], activation='relu', loss_fn='RMSE', \n",
    "                   optimizer_name='Adam', display_freq=100):\n",
    "    \"\"\"\n",
    "    \n",
    "    Parameters\n",
    "    ----------\n",
    "    X_train: 2 dimensions array like \n",
    "        array shape (n_rows, n_features)\n",
    "    Y_train: array like\n",
    "        array shape (n_rows, 1)\n",
    "    X_test: 2 dimensions array like (optional)\n",
    "        array shape (n_rows, n_features)\n",
    "    Y_test: array like (optional)\n",
    "        array shape (n_rows, 1)\n",
    "    learning_rate: float\n",
    "        Learning rate for the model\n",
    "    num_epochs: int (optional)\n",
    "        number of epoch to train\n",
    "        If None then it stop if the cost difference\n",
    "        is less than epsilon\n",
    "    epsilon: float (default 0.0001)\n",
    "        threshold to stop learning\n",
    "    early_stopping: int (default 10)\n",
    "        Number of epochs to use early stopping if training\n",
    "        cost increase\n",
    "    n_units: list (default [1])\n",
    "        list of units per layer\n",
    "    activation: str (default 'relu')\n",
    "        activation function for hidden layers\n",
    "    loss_fn: str (default RMSE)\n",
    "        loss function to compute\n",
    "    optimizer_name: str (default Adam)\n",
    "        optimizer to use\n",
    "    display_freq: int (default 100)\n",
    "        display frequency to follow the model learning\n",
    "    \n",
    "    Returns\n",
    "    -------\n",
    "    dict:\n",
    "        Dictionnary of the trained parameters\n",
    "    \"\"\"\n",
    "    \n",
    "    if type(X_train) == pd.DataFrame:\n",
    "        X_train = X_train.values\n",
    "        Y_train = Y_train.values.reshape(-1,1)\n",
    "        \n",
    "    if X_test is not None:\n",
    "        if type(X_test) == pd.DataFrame:\n",
    "            X_test = X_test.values\n",
    "            Y_test = Y_test.values.reshape(-1,1)\n",
    "    \n",
    "    # Reset graph\n",
    "    tf.reset_default_graph()\n",
    "    # Set seed\n",
    "    tf.set_random_seed(42)\n",
    "    \n",
    "    _, n_features = X_train.shape\n",
    "    \n",
    "    # Initialize placeholder    \n",
    "    X = tf.placeholder(tf.float32, shape=(None, n_features), name='X')\n",
    "    Y = tf.placeholder(tf.float32, shape=(None, 1), name='Y')\n",
    "    \n",
    "    # Initialize parameters\n",
    "    parameters = initialize_parameters(n_units, n_features, n_units_output=1)\n",
    "    \n",
    "    # Create forward propagation graphs\n",
    "    Y_pred = forward_propagation(X, parameters, activation)\n",
    "    \n",
    "    # Create loss computation graph\n",
    "    loss = compute_loss(Y_pred, Y, loss=loss_fn)\n",
    "    \n",
    "#     decayed_learning_rate = learning_rate * decay_rate ^ (global_step / decay_steps)  \n",
    "    \n",
    "    global_step = tf.Variable(0, trainable=False, name='learning_rate')\n",
    "    learning_rate = tf.train.exponential_decay(learning_rate,\n",
    "            global_step, decay_step, base_rate, staircase=True)\n",
    "\n",
    "    \n",
    "    # Create Optimizer \n",
    "    optimizer_obj = select_optimizer(optimizer_name)(learning_rate)\n",
    "    # grads_and_vars = optimizer_obj.compute_gradients(loss)    \n",
    "    optimizer = optimizer_obj.minimize(loss, global_step=global_step)\n",
    "    \n",
    "    feed_dict_train = {X: X_train, Y: Y_train}\n",
    "    feed_dict_test = {X: X_test, Y: Y_test} if X_test is not None else None\n",
    "    \n",
    "    parameters = fit(feed_dict_train, parameters, optimizer, loss, learning_rate,\n",
    "                     num_epochs, epsilon, early_stopping, feed_dict_test)\n",
    "    \n",
    "    return parameters\n",
    "    "
   ]
  },
  {
   "cell_type": "markdown",
   "metadata": {},
   "source": [
    "### Test the training"
   ]
  },
  {
   "cell_type": "code",
   "execution_count": 140,
   "metadata": {
    "scrolled": false
   },
   "outputs": [
    {
     "name": "stdout",
     "output_type": "stream",
     "text": [
      "At epoch 0, learning rate is 0.01000000 train cost is: 11.426588 and test cost is: 11.382075\n",
      "At epoch 100, learning rate is 0.01000000 train cost is: 5.093220 and test cost is: 5.062395\n",
      "At epoch 200, learning rate is 0.01000000 train cost is: 3.759574 and test cost is: 3.730151\n",
      "At epoch 300, learning rate is 0.01000000 train cost is: 2.948740 and test cost is: 2.920679\n",
      "At epoch 400, learning rate is 0.01000000 train cost is: 2.361535 and test cost is: 2.335022\n",
      "At epoch 500, learning rate is 0.01000000 train cost is: 1.900781 and test cost is: 1.876168\n",
      "At epoch 600, learning rate is 0.01000000 train cost is: 1.523095 and test cost is: 1.500944\n",
      "At epoch 700, learning rate is 0.01000000 train cost is: 1.206378 and test cost is: 1.187585\n",
      "At epoch 800, learning rate is 0.01000000 train cost is: 0.939653 and test cost is: 0.925654\n",
      "At epoch 900, learning rate is 0.01000000 train cost is: 0.719832 and test cost is: 0.712876\n"
     ]
    },
    {
     "data": {
      "image/png": "[encoded data removed]",
      "text/plain": [
       "<Figure size 432x288 with 1 Axes>"
      ]
     },
     "metadata": {
      "needs_background": "light"
     },
     "output_type": "display_data"
    },
    {
     "name": "stdout",
     "output_type": "stream",
     "text": [
      "Parameters have been trained!\n"
     ]
    }
   ],
   "source": [
    "# Choose hyper parameters\n",
    "learning_rate = 0.01\n",
    "decay_step = 1000 \n",
    "base_rate = 0.9\n",
    "num_epochs = 1000 \n",
    "epsilon = 0.000000001\n",
    "early_stopping = 10\n",
    "n_units = [20,10]\n",
    "activation = 'relu' \n",
    "loss_fn = 'RMSE log'\n",
    "optimizer = 'Adam'\n",
    "# batch_size to implement\n",
    "\n",
    "# Helper parameters\n",
    "display_freq = 100\n",
    "\n",
    "parameters = neural_network(X_train, y_train, X_test, y_test,\n",
    "                            learning_rate, decay_step, base_rate,\n",
    "                            num_epochs, epsilon, early_stopping,\n",
    "                            n_units, activation, loss_fn, optimizer,\n",
    "                            display_freq)"
   ]
  },
  {
   "cell_type": "code",
   "execution_count": 86,
   "metadata": {},
   "outputs": [],
   "source": [
    "# !tensorboard --logdir=\"./summaries/dashboard/\" --port 6006"
   ]
  },
  {
   "cell_type": "code",
   "execution_count": 141,
   "metadata": {},
   "outputs": [
    {
     "data": {
      "text/plain": [
       "{'W0': array([[ 1.86939120e+00,  1.47575819e+00, -1.17285766e-01, ...,\n",
       "          1.44841208e-03,  1.13480043e+00, -1.59956619e-01],\n",
       "        [ 1.89776313e+00,  1.73469222e+00, -2.47178212e-01, ...,\n",
       "         -2.58718163e-01,  1.15031409e+00, -8.17708299e-02],\n",
       "        [ 1.99488580e+00,  1.60308421e+00,  1.51197836e-01, ...,\n",
       "         -1.34591803e-01,  1.04659402e+00, -2.23917052e-01],\n",
       "        ...,\n",
       "        [ 1.93920839e+00,  1.80467284e+00,  4.71154898e-02, ...,\n",
       "         -3.25532928e-02,  1.00585485e+00, -9.93239433e-02],\n",
       "        [ 2.09179163e+00,  1.74675488e+00, -2.03039035e-01, ...,\n",
       "         -1.43004328e-01,  1.11013472e+00, -1.19780332e-01],\n",
       "        [ 2.94279146e+00,  1.62525904e+00,  3.37335207e-02, ...,\n",
       "         -2.06520017e-02,  1.28375793e+00, -1.72843516e-01]], dtype=float32),\n",
       " 'b0': array([[ 2.02212   ,  1.7148827 , -0.06579651,  0.52811944,  0.99387693,\n",
       "          1.8723816 ,  4.429361  ,  0.74580085,  3.4721518 ,  0.6776308 ,\n",
       "          3.0988758 ,  0.8577727 ,  2.5664694 ,  1.7063924 , -0.07235721,\n",
       "          6.0429797 ,  4.0444756 , -0.0659229 ,  1.2913635 , -0.06172643]],\n",
       "       dtype=float32),\n",
       " 'W1': array([[ 2.667462  ,  5.597816  ,  5.2430296 , -0.18866192, -0.57137895,\n",
       "         -0.3603632 ,  3.0742297 , -0.13827056,  3.181968  ,  2.0940926 ],\n",
       "        [ 1.556272  ,  5.361939  ,  4.0289764 , -0.13960952, -0.34048408,\n",
       "         -0.22454181,  1.6575062 ,  0.12627187,  2.447125  ,  1.6831496 ],\n",
       "        [ 0.03273546,  0.10508275, -0.16016595, -0.41740316, -0.2783104 ,\n",
       "         -0.04769586, -0.21503805, -0.5011356 ,  0.3999382 , -0.07517323],\n",
       "        [ 1.2628971 ,  2.6777701 ,  2.4633188 ,  0.21239771,  0.27791566,\n",
       "         -0.38022327,  1.1733963 , -0.12484435,  0.818589  ,  1.1003251 ],\n",
       "        [ 1.2319778 ,  4.2536993 ,  2.8609202 , -0.25058338,  0.21686146,\n",
       "         -0.0483803 ,  1.5301895 ,  0.13421416,  2.238357  ,  1.582808  ],\n",
       "        [ 3.115924  ,  5.8215404 ,  4.982103  , -0.43304166,  0.26842713,\n",
       "         -0.39199525,  2.8152683 , -0.48017776,  3.601235  ,  2.622384  ],\n",
       "        [ 4.235431  ,  7.347064  ,  6.755554  ,  0.25487065, -0.45956033,\n",
       "          0.10934556,  4.014699  ,  0.01587526,  5.431443  ,  3.395412  ],\n",
       "        [ 1.492435  ,  3.6488273 ,  3.2480743 , -0.38368693,  0.04946985,\n",
       "         -0.42452985,  1.6719773 ,  0.15041724,  1.9011104 ,  1.4844245 ],\n",
       "        [ 3.1696463 ,  6.897777  ,  6.1131473 ,  0.07535227, -0.06964143,\n",
       "         -0.26546067,  3.7784328 , -0.28801635,  3.791565  ,  2.533724  ],\n",
       "        [ 1.5063198 ,  3.9830265 ,  2.8203764 , -0.19651662, -0.15794896,\n",
       "         -0.46566668,  1.5603056 , -0.38144648,  1.7958417 ,  1.2346513 ],\n",
       "        [ 4.27589   ,  6.2978287 ,  6.0542774 , -0.47956493, -0.51197344,\n",
       "         -0.4902351 ,  4.4137506 ,  0.1986722 ,  4.914495  ,  3.2470903 ],\n",
       "        [ 0.9051533 ,  3.8349054 ,  2.6385567 , -0.2974268 , -0.48244622,\n",
       "          0.3532665 ,  1.0916568 , -0.41020894,  1.5717522 ,  1.2991921 ],\n",
       "        [ 2.7890134 ,  5.7847834 ,  5.2327247 ,  0.32869697,  0.06013688,\n",
       "         -0.3803832 ,  2.6918478 , -0.26447284,  3.118221  ,  1.6444273 ],\n",
       "        [ 2.5501294 ,  5.7445445 ,  4.942399  , -0.21590228,  0.0542101 ,\n",
       "         -0.40462148,  2.6638153 , -0.01757985,  3.317039  ,  2.5014331 ],\n",
       "        [-0.35299036,  0.07605135,  0.20697129, -0.3376006 , -0.11806682,\n",
       "          0.02992678, -0.31933013, -0.31729233,  0.01703521,  0.16063344],\n",
       "        [ 6.044488  ,  7.506432  ,  7.18713   ,  0.20193452,  0.01374399,\n",
       "          0.3500636 ,  6.2002535 ,  0.18966904,  6.416139  ,  5.066945  ],\n",
       "        [ 4.5920467 ,  6.9532223 ,  6.7024965 , -0.04628045, -0.3280649 ,\n",
       "          0.13368484,  4.6384096 ,  0.16295576,  5.1044235 ,  3.359935  ],\n",
       "        [-0.15499312, -0.14104348, -0.08900104, -0.30393288,  0.07381034,\n",
       "          0.07390441, -0.26568207,  0.37807468,  0.29652128, -0.35312802],\n",
       "        [ 2.3788471 ,  5.121323  ,  3.8116088 , -0.12296697,  0.0851928 ,\n",
       "         -0.40523505,  1.8842232 , -0.02522766,  2.7295775 ,  1.9856097 ],\n",
       "        [ 0.07885707,  0.39314014,  0.3976151 ,  0.33634928,  0.17278981,\n",
       "         -0.05286154,  0.19416861, -0.2652777 , -0.10094297, -0.01469424]],\n",
       "       dtype=float32),\n",
       " 'b1': array([[ 0.23542176,  0.75363505,  0.45894867, -0.07400093, -0.09809467,\n",
       "         -0.06005454,  0.22189486, -0.06461857,  0.2683702 ,  0.19664821]],\n",
       "       dtype=float32),\n",
       " 'W2': array([[ 5.1559076 ],\n",
       "        [ 6.1099286 ],\n",
       "        [ 5.226003  ],\n",
       "        [-0.05391053],\n",
       "        [-0.04771347],\n",
       "        [-0.63869137],\n",
       "        [ 4.812475  ],\n",
       "        [-0.2545792 ],\n",
       "        [ 5.567934  ],\n",
       "        [ 4.027326  ]], dtype=float32),\n",
       " 'b2': array([[0.16265664]], dtype=float32)}"
      ]
     },
     "execution_count": 141,
     "metadata": {},
     "output_type": "execute_result"
    }
   ],
   "source": [
    "parameters"
   ]
  },
  {
   "cell_type": "markdown",
   "metadata": {},
   "source": [
    "### Re-use trained paramaters to predict"
   ]
  },
  {
   "cell_type": "code",
   "execution_count": 142,
   "metadata": {},
   "outputs": [],
   "source": [
    "def predict(X, parameters):\n",
    "    \"\"\"Returns predictions using trained parameters\n",
    "    \n",
    "    Parameters\n",
    "    ----------\n",
    "    X: pd.DataFrame or np.array\n",
    "        Features to predict on\n",
    "    parameters: dict\n",
    "        Trained parameters\n",
    "        \n",
    "    Returns\n",
    "    -------\n",
    "    np.array:\n",
    "        Computed predictions\n",
    "    \"\"\"\n",
    "    init = tf.global_variables_initializer()\n",
    "\n",
    "    X_tf = tf.placeholder(tf.float32, shape=(None, X.shape[1]), name='X')\n",
    "    Y_pred = forward_propagation(X_tf, parameters)\n",
    "    \n",
    "    with tf.Session() as sess:\n",
    "        sess.run(init)\n",
    "        \n",
    "        preds = sess.run(Y_pred, feed_dict={X_tf: X})\n",
    "                   \n",
    "    sess.close()\n",
    "    return preds"
   ]
  },
  {
   "cell_type": "code",
   "execution_count": 143,
   "metadata": {
    "scrolled": false
   },
   "outputs": [],
   "source": [
    "predictions = predict(X_test, parameters)"
   ]
  },
  {
   "cell_type": "code",
   "execution_count": 144,
   "metadata": {},
   "outputs": [
    {
     "data": {
      "text/plain": [
       "array([[110608.49 ],\n",
       "       [115076.15 ],\n",
       "       [108816.65 ],\n",
       "       [112900.625],\n",
       "       [115287.89 ],\n",
       "       [106251.43 ],\n",
       "       [112564.35 ],\n",
       "       [114052.08 ],\n",
       "       [104584.48 ],\n",
       "       [108467.55 ]], dtype=float32)"
      ]
     },
     "execution_count": 144,
     "metadata": {},
     "output_type": "execute_result"
    }
   ],
   "source": [
    "predictions[:10]"
   ]
  },
  {
   "cell_type": "markdown",
   "metadata": {},
   "source": [
    "## Model validation"
   ]
  },
  {
   "cell_type": "code",
   "execution_count": 145,
   "metadata": {},
   "outputs": [],
   "source": [
    "from sklearn.metrics import mean_squared_log_error\n",
    "\n",
    "def custom_cost(Y_real, Y_pred):\n",
    "    return np.sqrt(np.mean((np.log(Y_real) - np.log(Y_pred))**2))\n",
    "\n",
    "def model_validation(X_train, Y_train, X_test, Y_test, parameters):\n",
    "    \"\"\"Compute and prints cost metrics \n",
    "    for the training and validation set\n",
    "    \n",
    "    Parameters\n",
    "    ----------\n",
    "    X_train: pd.DataFrame or np.array\n",
    "        Features for training set\n",
    "    Y_train: pd.Series or np.array\n",
    "        Labels for training set\n",
    "    X_test: pd.DataFrame or np.array\n",
    "        Features for testing set\n",
    "    Y_test: pd.Series or np.array\n",
    "        Labels for testing set\n",
    "    parameters: dict\n",
    "        Trained parameters    \n",
    "    \"\"\"\n",
    "    if type(X_train) == pd.DataFrame:\n",
    "        X_train = X_train.values\n",
    "        Y_train = Y_train.values.reshape(-1,1)\n",
    "        X_test = X_test.values\n",
    "        Y_test = Y_test.values.reshape(-1,1)    \n",
    "\n",
    "    pred_train = predict(X_train, parameters)\n",
    "    pred_test = predict(X_test, parameters)\n",
    "    \n",
    "    train_cost = custom_cost(Y_train, pred_train)\n",
    "    test_cost = custom_cost(Y_test, pred_test)\n",
    "\n",
    "    print (\"Train score:\", train_cost)\n",
    "    print (\"Test score:\", test_cost)"
   ]
  },
  {
   "cell_type": "code",
   "execution_count": 146,
   "metadata": {},
   "outputs": [
    {
     "name": "stdout",
     "output_type": "stream",
     "text": [
      "Train score: 0.5522331239475746\n",
      "Test score: 0.5552056643844377\n"
     ]
    }
   ],
   "source": [
    "model_validation(X_train, y_train, X_test, y_test, parameters)"
   ]
  },
  {
   "cell_type": "markdown",
   "metadata": {},
   "source": [
    "## Create best model"
   ]
  },
  {
   "cell_type": "code",
   "execution_count": 177,
   "metadata": {
    "scrolled": false
   },
   "outputs": [
    {
     "name": "stdout",
     "output_type": "stream",
     "text": [
      "CPU times: user 6 µs, sys: 0 ns, total: 6 µs\n",
      "Wall time: 11.2 µs\n",
      "At epoch 0, learning rate is 0.00050000 train cost is: 13.512259 and test cost is: 13.459157\n",
      "At epoch 500, learning rate is 0.00041405 train cost is: 0.349337 and test cost is: 0.390098\n",
      "At epoch 1000, learning rate is 0.00034287 train cost is: 0.230036 and test cost is: 0.251194\n",
      "At epoch 1500, learning rate is 0.00028393 train cost is: 0.203538 and test cost is: 0.218770\n",
      "At epoch 2000, learning rate is 0.00023513 train cost is: 0.193325 and test cost is: 0.208258\n",
      "At epoch 2500, learning rate is 0.00019471 train cost is: 0.186796 and test cost is: 0.201767\n",
      "At epoch 3000, learning rate is 0.00016124 train cost is: 0.181172 and test cost is: 0.196945\n",
      "At epoch 3500, learning rate is 0.00013352 train cost is: 0.176486 and test cost is: 0.193317\n",
      "At epoch 4000, learning rate is 0.00011057 train cost is: 0.172372 and test cost is: 0.190333\n",
      "At epoch 4500, learning rate is 0.00009156 train cost is: 0.168306 and test cost is: 0.187595\n",
      "At epoch 5000, learning rate is 0.00007582 train cost is: 0.164134 and test cost is: 0.185374\n",
      "At epoch 5500, learning rate is 0.00006279 train cost is: 0.159853 and test cost is: 0.183783\n",
      "At epoch 6000, learning rate is 0.00005200 train cost is: 0.155482 and test cost is: 0.183046\n",
      "Stop at epoch 6137. because validation cost has increase in the last 100 epochs.\n"
     ]
    },
    {
     "data": {
      "image/png": "[encoded data removed]",
      "text/plain": [
       "<Figure size 432x288 with 1 Axes>"
      ]
     },
     "metadata": {
      "needs_background": "light"
     },
     "output_type": "display_data"
    },
    {
     "name": "stdout",
     "output_type": "stream",
     "text": [
      "Parameters have been trained!\n",
      "Train score: 0.15425812206225104\n",
      "Test score: 0.183021221040079\n"
     ]
    }
   ],
   "source": [
    "%time \n",
    "\n",
    "# Choose hyper parameters\n",
    "learning_rate = 0.0005\n",
    "decay_step = 250\n",
    "base_rate = 0.91\n",
    "\n",
    "num_epochs = None \n",
    "epsilon = 0.000000001\n",
    "early_stopping = 100\n",
    "n_units = [90,50,70,30,40,20,10]\n",
    "activation = 'relu' \n",
    "loss_fn = 'RMSE log'\n",
    "optimizer = 'Adam'\n",
    "# batch_size to implement\n",
    "\n",
    "# Helper parameters\n",
    "display_freq = 500\n",
    "\n",
    "parameters = neural_network(X_train, y_train, X_test, y_test,\n",
    "                           learning_rate, decay_step, base_rate,\n",
    "                            num_epochs, epsilon, early_stopping,\n",
    "                           n_units, activation, loss_fn, optimizer,\n",
    "                           display_freq)\n",
    "\n",
    "# see model validation\n",
    "model_validation(X_train, y_train, X_test, y_test, parameters)"
   ]
  },
  {
   "cell_type": "markdown",
   "metadata": {},
   "source": [
    "## Run on test and save submission"
   ]
  },
  {
   "cell_type": "code",
   "execution_count": 178,
   "metadata": {},
   "outputs": [],
   "source": [
    "def pred_and_format_for_kaggle(test, parameters, save=True):\n",
    "    ids = test['Id']\n",
    "    X = test.drop(columns='Id')\n",
    "    \n",
    "    preds = pd.DataFrame(predict(X, parameters))\n",
    "    \n",
    "    output = pd.concat([ids, preds], axis=1)\n",
    "    output.columns = ['Id','SalePrice']\n",
    "    \n",
    "    if save:\n",
    "        output.to_csv('data/submission.csv', index=False)\n",
    "    \n",
    "    return output"
   ]
  },
  {
   "cell_type": "code",
   "execution_count": 179,
   "metadata": {},
   "outputs": [],
   "source": [
    "test_columns = [c for c in cols_to_keep if c != target]\n",
    "test_df, _ , _ = prepare_data(test, test_columns, target, \n",
    "                              dummies_cols, transformer)\n",
    "test_df['Id'] = test['Id']"
   ]
  },
  {
   "cell_type": "code",
   "execution_count": 180,
   "metadata": {
    "scrolled": false
   },
   "outputs": [
    {
     "data": {
      "text/plain": [
       "0"
      ]
     },
     "execution_count": 180,
     "metadata": {},
     "output_type": "execute_result"
    }
   ],
   "source": [
    "output = pred_and_format_for_kaggle(test_df, parameters, save=True)\n",
    "(output['SalePrice'] < 1000).sum()"
   ]
  },
  {
   "cell_type": "code",
   "execution_count": 181,
   "metadata": {},
   "outputs": [
    {
     "data": {
      "text/html": [
       "<div>\n",
       "<style scoped>\n",
       "    .dataframe tbody tr th:only-of-type {\n",
       "        vertical-align: middle;\n",
       "    }\n",
       "\n",
       "    .dataframe tbody tr th {\n",
       "        vertical-align: top;\n",
       "    }\n",
       "\n",
       "    .dataframe thead th {\n",
       "        text-align: right;\n",
       "    }\n",
       "</style>\n",
       "<table border=\"1\" class=\"dataframe\">\n",
       "  <thead>\n",
       "    <tr style=\"text-align: right;\">\n",
       "      <th></th>\n",
       "      <th>Id</th>\n",
       "      <th>SalePrice</th>\n",
       "    </tr>\n",
       "  </thead>\n",
       "  <tbody>\n",
       "    <tr>\n",
       "      <th>1087</th>\n",
       "      <td>2548</td>\n",
       "      <td>124962.890625</td>\n",
       "    </tr>\n",
       "    <tr>\n",
       "      <th>1345</th>\n",
       "      <td>2806</td>\n",
       "      <td>115071.953125</td>\n",
       "    </tr>\n",
       "    <tr>\n",
       "      <th>336</th>\n",
       "      <td>1797</td>\n",
       "      <td>112603.890625</td>\n",
       "    </tr>\n",
       "    <tr>\n",
       "      <th>283</th>\n",
       "      <td>1744</td>\n",
       "      <td>375710.843750</td>\n",
       "    </tr>\n",
       "    <tr>\n",
       "      <th>690</th>\n",
       "      <td>2151</td>\n",
       "      <td>140233.578125</td>\n",
       "    </tr>\n",
       "    <tr>\n",
       "      <th>1294</th>\n",
       "      <td>2755</td>\n",
       "      <td>132624.390625</td>\n",
       "    </tr>\n",
       "    <tr>\n",
       "      <th>889</th>\n",
       "      <td>2350</td>\n",
       "      <td>332385.156250</td>\n",
       "    </tr>\n",
       "    <tr>\n",
       "      <th>438</th>\n",
       "      <td>1899</td>\n",
       "      <td>186297.515625</td>\n",
       "    </tr>\n",
       "    <tr>\n",
       "      <th>1042</th>\n",
       "      <td>2503</td>\n",
       "      <td>79788.304688</td>\n",
       "    </tr>\n",
       "    <tr>\n",
       "      <th>716</th>\n",
       "      <td>2177</td>\n",
       "      <td>226972.078125</td>\n",
       "    </tr>\n",
       "  </tbody>\n",
       "</table>\n",
       "</div>"
      ],
      "text/plain": [
       "        Id      SalePrice\n",
       "1087  2548  124962.890625\n",
       "1345  2806  115071.953125\n",
       "336   1797  112603.890625\n",
       "283   1744  375710.843750\n",
       "690   2151  140233.578125\n",
       "1294  2755  132624.390625\n",
       "889   2350  332385.156250\n",
       "438   1899  186297.515625\n",
       "1042  2503   79788.304688\n",
       "716   2177  226972.078125"
      ]
     },
     "execution_count": 181,
     "metadata": {},
     "output_type": "execute_result"
    }
   ],
   "source": [
    "output.sample(10)"
   ]
  },
  {
   "cell_type": "markdown",
   "metadata": {},
   "source": [
    "## The end."
   ]
  }
 ],
 "metadata": {
  "kernelspec": {
   "display_name": "Python 3",
   "language": "python",
   "name": "python3"
  },
  "language_info": {
   "codemirror_mode": {
    "name": "ipython",
    "version": 3
   },
   "file_extension": ".py",
   "mimetype": "text/x-python",
   "name": "python",
   "nbconvert_exporter": "python",
   "pygments_lexer": "ipython3",
   "version": "3.6.8"
  }
 },
 "nbformat": 4,
 "nbformat_minor": 2
}
