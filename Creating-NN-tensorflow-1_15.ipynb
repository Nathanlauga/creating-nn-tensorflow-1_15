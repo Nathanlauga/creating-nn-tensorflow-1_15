{
 "cells": [
  {
   "cell_type": "markdown",
   "metadata": {},
   "source": [
    "# Creating a basic neural network with Tensorflow v1.15\n",
    "\n",
    "This notebook is inspired by some code available in the [Coursera Deep Learning Specialization]() and has the goal to reproduce the same logic as [Tensorflow playground](https://playground.tensorflow.org/) but in Python.\n",
    "\n",
    "So in summary you'll be able to choose the following hyperparameters :\n",
    "- number of hidden layers\n",
    "- number of units in each layers\n",
    "- loss function\n",
    "- activation per layer\n",
    "- regularization (with rate)\n",
    "- learning rate\n",
    "\n",
    "## Import packages"
   ]
  },
  {
   "cell_type": "code",
   "execution_count": 124,
   "metadata": {},
   "outputs": [],
   "source": [
    "import sklearn\n",
    "import tensorflow as tf\n",
    "import numpy as np\n",
    "import pandas as pd\n",
    "import matplotlib.pyplot as plt\n",
    "import os\n",
    "\n",
    "from IPython.display import display, Markdown\n",
    "\n",
    "from sklearn.model_selection import train_test_split\n",
    "\n",
    "import warnings\n",
    "warnings.filterwarnings('ignore')"
   ]
  },
  {
   "cell_type": "markdown",
   "metadata": {},
   "source": [
    "## Load data"
   ]
  },
  {
   "cell_type": "code",
   "execution_count": 2,
   "metadata": {},
   "outputs": [],
   "source": [
    "train = pd.read_csv('data/train.csv')\n",
    "test = pd.read_csv('data/test.csv')"
   ]
  },
  {
   "cell_type": "markdown",
   "metadata": {},
   "source": [
    "## Prepare data"
   ]
  },
  {
   "cell_type": "code",
   "execution_count": 3,
   "metadata": {},
   "outputs": [],
   "source": [
    "target = 'SalePrice'\n",
    "cols_to_keep = ['LotArea', 'TotalBsmtSF'] + [target]"
   ]
  },
  {
   "cell_type": "code",
   "execution_count": 4,
   "metadata": {},
   "outputs": [],
   "source": [
    "train_df = train[cols_to_keep].fillna(0)"
   ]
  },
  {
   "cell_type": "markdown",
   "metadata": {},
   "source": [
    "## split train test"
   ]
  },
  {
   "cell_type": "code",
   "execution_count": 9,
   "metadata": {},
   "outputs": [],
   "source": [
    "X, y = train_df.drop(columns=target), train_df[target]"
   ]
  },
  {
   "cell_type": "code",
   "execution_count": 10,
   "metadata": {},
   "outputs": [],
   "source": [
    "X_train, X_test, y_train, y_test = train_test_split(X, y, test_size=0.2, random_state=42)"
   ]
  },
  {
   "cell_type": "markdown",
   "metadata": {},
   "source": [
    "## Create NN\n",
    "\n",
    "### Initialize Weight and bias"
   ]
  },
  {
   "cell_type": "code",
   "execution_count": 30,
   "metadata": {},
   "outputs": [],
   "source": [
    "def initialize_parameters(n_units, n_features, n_units_output=1):    \n",
    "    \"\"\"Initialize parameters Weight and bias and stored them\n",
    "    in a dictionnary following this format : {'Wl': tf.Variable, 'bl': tf.Variable, ...}.\n",
    "    \n",
    "    Where `l` is the layer number. \n",
    "    \n",
    "    The dictionnary also store number of layers L (output layer include)\n",
    "    \n",
    "    Parameters\n",
    "    ----------\n",
    "    n_units: list\n",
    "        list of number of units per layer\n",
    "    n_features: int\n",
    "        number of features at input layer\n",
    "    n_units_output: int (default 1)\n",
    "        number of units at output layer\n",
    "        \n",
    "    Returns\n",
    "    -------\n",
    "    dict:\n",
    "        Dictionnary of parameters    \n",
    "    \"\"\"\n",
    "    tf.set_random_seed(1) \n",
    "    parameters = {}\n",
    "\n",
    "    n_units += [n_units_output]    \n",
    "    n_layers = len(n_units)\n",
    "    \n",
    "    parameters['L'] = n_layers\n",
    "    \n",
    "    for l in range(0,n_layers):\n",
    "        num_units = n_units[l]   \n",
    "        W = f'W{l}'\n",
    "        b = f'b{l}'\n",
    "\n",
    "        prev_n_units = n_features if l == 0 else n_units[l-1]\n",
    "\n",
    "        # Using Xavier initializer for Weight \n",
    "        # Todo custom\n",
    "        parameters[W] = tf.get_variable(name=W, shape=[prev_n_units, num_units], \n",
    "                                        initializer = tf.contrib.layers.xavier_initializer())\n",
    "        # Using zeros initializer for bias\n",
    "        parameters[b] = tf.get_variable(name=b, shape=[1,num_units], \n",
    "                                        initializer = tf.zeros_initializer())\n",
    "\n",
    "    return parameters"
   ]
  },
  {
   "cell_type": "code",
   "execution_count": 31,
   "metadata": {},
   "outputs": [
    {
     "data": {
      "text/plain": [
       "{'L': 3,\n",
       " 'W0': <tf.Variable 'W0:0' shape=(20, 10) dtype=float32_ref>,\n",
       " 'b0': <tf.Variable 'b0:0' shape=(1, 10) dtype=float32_ref>,\n",
       " 'W1': <tf.Variable 'W1:0' shape=(10, 5) dtype=float32_ref>,\n",
       " 'b1': <tf.Variable 'b1:0' shape=(1, 5) dtype=float32_ref>,\n",
       " 'W2': <tf.Variable 'W2:0' shape=(5, 2) dtype=float32_ref>,\n",
       " 'b2': <tf.Variable 'b2:0' shape=(1, 2) dtype=float32_ref>}"
      ]
     },
     "execution_count": 31,
     "metadata": {},
     "output_type": "execute_result"
    }
   ],
   "source": [
    "# Test for a NN with 2 hidden layers, 20 features and 2 output units\n",
    "tf.reset_default_graph()   \n",
    "\n",
    "initialize_parameters(n_units=[10,5], n_features=20, n_units_output=2)"
   ]
  },
  {
   "cell_type": "markdown",
   "metadata": {},
   "source": [
    "### Compute forward propagation"
   ]
  },
  {
   "cell_type": "code",
   "execution_count": 41,
   "metadata": {},
   "outputs": [],
   "source": [
    "def compute_layer(A, parameters, layer, activation='relu'):\n",
    "    \"\"\"Compute calculus for a given layer\n",
    "    \n",
    "    Follow this formula : Z_l = A_{l-1} * W_l + b_l\n",
    "    \n",
    "    if activation is set then this function returns : \n",
    "    A_l = activation_function(Z_l) \n",
    "    \n",
    "    Where :\n",
    "    - A is (1, nb units prev layer)\n",
    "    - W is (nb units prev layer, nb units current layer)\n",
    "    - b is (1, nb units current layer)\n",
    "    \n",
    "    Parameters\n",
    "    ----------\n",
    "    A: tf.Variable\n",
    "        output of the previous layer\n",
    "    parameters: dict\n",
    "        Dictionnary of parameters  \n",
    "    layer: int\n",
    "        number of the current layer\n",
    "    activation: str (default relu)\n",
    "        activation function, if None then just \n",
    "        compute the linear calculus\n",
    "        \n",
    "    Returns\n",
    "    -------\n",
    "    tf.Variable\n",
    "        Output of the layer calculus\n",
    "    \"\"\"\n",
    "    W = parameters['W'+str(layer)]\n",
    "    b = parameters['b'+str(layer)]\n",
    "    \n",
    "    Z = tf.add(tf.matmul(A,W), b, name=f'Z{layer}')\n",
    "    \n",
    "    if activation is not None:\n",
    "        return tf.nn.relu(Z, name=f'A{layer}') \n",
    "    \n",
    "    return Z\n",
    "\n",
    "def forward_propagation(X, parameters, activation='relu'):\n",
    "    \"\"\"Compute forward propagation given input X and\n",
    "    initialized parameters.\n",
    "    \n",
    "    You can custom activation functionfor the hidden layers\n",
    "    \n",
    "    Parameters\n",
    "    ----------\n",
    "    X: tf.Variable\n",
    "        input data shape (n_rows, n_features) \n",
    "    parameters: dict\n",
    "        Dictionnary of parameters  \n",
    "    activation: str (default relu)\n",
    "        activation function for hidden layers\n",
    "        \n",
    "    Returns\n",
    "    -------\n",
    "    tf.Variable\n",
    "        Prediction output shape (n_rows, n_units_output)\n",
    "    \"\"\"\n",
    "    A = X\n",
    "    n_layers = parameters['L']\n",
    "    \n",
    "    for l in range(0, n_layers):\n",
    "        act_l = activation if l != n_layers-1 else None\n",
    "        \n",
    "        A = compute_layer(A, parameters, layer=l, activation=act_l)\n",
    "    \n",
    "    return A"
   ]
  },
  {
   "cell_type": "code",
   "execution_count": 42,
   "metadata": {},
   "outputs": [
    {
     "data": {
      "text/plain": [
       "<tf.Tensor 'Z2:0' shape=(?, 2) dtype=float32>"
      ]
     },
     "execution_count": 42,
     "metadata": {},
     "output_type": "execute_result"
    }
   ],
   "source": [
    "# Test for a NN with 2 hidden layers, 20 features and 2 output units\n",
    "tf.reset_default_graph()   \n",
    "\n",
    "parameters = initialize_parameters(n_units=[10,5], n_features=20, n_units_output=2)\n",
    "\n",
    "X = tf.placeholder(tf.float32, shape=(None, 20), name='X')\n",
    "\n",
    "forward_propagation(X, parameters, activation='relu')"
   ]
  },
  {
   "cell_type": "markdown",
   "metadata": {},
   "source": [
    "### Compute cost\n",
    "\n",
    "Handle the following cost function :\n",
    "\n",
    "-----\n",
    "\n",
    "- `MSE`: Mean square Error (or Quadratic Loss or L2 Loss)\n",
    "\n",
    "$MSE = \\frac{1}{n}\\sum_{i=1}^{n}{(y_i - \\hat{y_i})^2}$\n",
    "\n",
    "```python\n",
    "def loss(Y_pred, Y_real):\n",
    "    return tf.reduce_mean(tf.square(Y_pred - Y_real))\n",
    "```\n",
    "\n",
    "-----\n",
    "- `RMSE`: Root Mean square Error \n",
    "\n",
    "$RMSE = \\sqrt{\\frac{1}{n}\\sum_{i=1}^{n}{(y_i - \\hat{y_i})^2}}$\n",
    "\n",
    "```python\n",
    "def loss(Y_pred, Y_real):\n",
    "    return tf.sqrt(tf.reduce_mean(tf.square(Y_pred - Y_real)))\n",
    "```\n",
    "-----\n",
    "- `RMSE log`: Root Mean square Error (log values)\n",
    "\n",
    "$RMSE = \\sqrt{\\frac{1}{n}\\sum_{i=1}^{n}{(\\log{y_i} - \\log{\\hat{y_i}})^2}}$\n",
    "\n",
    "```python\n",
    "def loss(Y_pred, Y_real):\n",
    "    return tf.reduce_mean(tf.abs(Y_pred - Y_real))\n",
    "```\n",
    "\n",
    "-----\n",
    "- `MAE`: Mean Absolute Error (or L1 Loss)\n",
    "\n",
    "$MAE = \\frac{1}{n} \\sum_{i=1}^{n}{|y_i - \\hat{y_i}|}$\n",
    "\n",
    "```python\n",
    "def loss(Y_pred, Y_real):\n",
    "    return tf.reduce_mean(tf.abs(Y_pred - Y_real))\n",
    "```\n",
    "\n",
    "-----\n",
    "- `Entropy`: Cross Entropy Loss (or Negative Log Likelihood)\n",
    "\n",
    "$\\text{Cross Entropy Loss} = - (y_i\\log{\\hat{y_i}} + (1-y_i)\\log{1-\\hat{y_i}})$\n",
    "\n",
    "```python\n",
    "def loss(Y_pred, Y_real):\n",
    "    return tf.reduce_mean(tf.nn.softmax_cross_entropy_with_logits_v2(labels, logits))\n",
    "\n",
    "```"
   ]
  },
  {
   "cell_type": "code",
   "execution_count": 95,
   "metadata": {},
   "outputs": [],
   "source": [
    "def compute_loss(Y_pred, Y_real, loss='RMSE'):\n",
    "    \"\"\"Compute loss given a loss function\n",
    "    \n",
    "    Loss available : \n",
    "    - MSE\n",
    "    - RMSE\n",
    "    - RMSE log\n",
    "    - MAE\n",
    "    - Entropy\n",
    "    \n",
    "    Parameters\n",
    "    ----------\n",
    "    Y_pred: tf.Variable\n",
    "        Predictions from the model\n",
    "    Y_real: tf.Variable\n",
    "        Real output\n",
    "    loss: str (default RMSE)\n",
    "        loss function to compute\n",
    "        \n",
    "    Returns\n",
    "    -------\n",
    "    tf.Variable:\n",
    "        Loss of the model\n",
    "    \"\"\"\n",
    "    if loss == 'MSE':\n",
    "        return tf.reduce_mean(tf.square(Y_pred - Y_real), name='loss')\n",
    "    \n",
    "    elif loss == 'RMSE':\n",
    "        return tf.sqrt(tf.reduce_mean(tf.square(Y_pred - Y_real)), name='loss')\n",
    "    \n",
    "    elif loss == 'RMSE log':\n",
    "        return tf.reduce_mean(tf.abs(tf.log(Y_pred) - tf.log(Y_real)), name='loss')\n",
    "        \n",
    "    elif loss == 'MAE':\n",
    "        return tf.reduce_mean(tf.abs(Y_pred - Y_real), name='loss')\n",
    "    \n",
    "    elif loss == 'Entropy':\n",
    "        return tf.reduce_mean(tf.nn.softmax_cross_entropy_with_logits_v2(Y_real, Y_pred), name='loss')\n",
    "    \n",
    "    return None\n"
   ]
  },
  {
   "cell_type": "code",
   "execution_count": 96,
   "metadata": {},
   "outputs": [],
   "source": [
    "# Test\n",
    "tf.reset_default_graph()   \n",
    "\n",
    "parameters = initialize_parameters(n_units=[10], n_features=5)\n",
    "\n",
    "X = tf.placeholder(tf.float32, shape=(None, 5), name='X')\n",
    "Y = tf.placeholder(tf.float32, shape=(None, 1), name='Y')\n",
    "\n",
    "Y_pred = forward_propagation(X, parameters, activation='relu')"
   ]
  },
  {
   "cell_type": "code",
   "execution_count": 97,
   "metadata": {},
   "outputs": [
    {
     "data": {
      "text/plain": [
       "<tf.Tensor 'loss:0' shape=() dtype=float32>"
      ]
     },
     "execution_count": 97,
     "metadata": {},
     "output_type": "execute_result"
    }
   ],
   "source": [
    "compute_loss(Y_pred=Y_pred, Y_real=Y, loss='MSE')"
   ]
  },
  {
   "cell_type": "code",
   "execution_count": 98,
   "metadata": {},
   "outputs": [
    {
     "data": {
      "text/plain": [
       "<tf.Tensor 'loss_1:0' shape=() dtype=float32>"
      ]
     },
     "execution_count": 98,
     "metadata": {},
     "output_type": "execute_result"
    }
   ],
   "source": [
    "compute_loss(Y_pred=Y_pred, Y_real=Y, loss='RMSE')"
   ]
  },
  {
   "cell_type": "code",
   "execution_count": 99,
   "metadata": {},
   "outputs": [
    {
     "data": {
      "text/plain": [
       "<tf.Tensor 'loss_2:0' shape=() dtype=float32>"
      ]
     },
     "execution_count": 99,
     "metadata": {},
     "output_type": "execute_result"
    }
   ],
   "source": [
    "compute_loss(Y_pred=Y_pred, Y_real=Y, loss='RMSE log')"
   ]
  },
  {
   "cell_type": "code",
   "execution_count": 100,
   "metadata": {},
   "outputs": [
    {
     "data": {
      "text/plain": [
       "<tf.Tensor 'loss_3:0' shape=() dtype=float32>"
      ]
     },
     "execution_count": 100,
     "metadata": {},
     "output_type": "execute_result"
    }
   ],
   "source": [
    "compute_loss(Y_pred=Y_pred, Y_real=Y, loss='MAE')"
   ]
  },
  {
   "cell_type": "code",
   "execution_count": 101,
   "metadata": {},
   "outputs": [
    {
     "data": {
      "text/plain": [
       "<tf.Tensor 'loss_4:0' shape=() dtype=float32>"
      ]
     },
     "execution_count": 101,
     "metadata": {},
     "output_type": "execute_result"
    }
   ],
   "source": [
    "compute_loss(Y_pred=Y_pred, Y_real=Y, loss='Entropy')"
   ]
  },
  {
   "cell_type": "markdown",
   "metadata": {},
   "source": [
    "### Optimizer selection\n",
    "\n",
    "This the list of possible optimizer to train the neural network :\n",
    "\n",
    "- GradientDescent: [`tf.train.GradientDescentOptimizer`](https://www.tensorflow.org/versions/r1.15/api_docs/python/tf/train/GradientDescentOptimizer)\n",
    "- Momentum: [`tf.train.MomentumOptimizer`](https://www.tensorflow.org/versions/r1.15/api_docs/python/tf/train/MomentumOptimizer)\n",
    "- Adagrad: [`tf.train.AdagradOptimizer`](https://www.tensorflow.org/versions/r1.15/api_docs/python/tf/train/AdagradOptimizer)\n",
    "- Adadelta: [`tf.train.AdadeltaOptimizer`](https://www.tensorflow.org/versions/r1.15/api_docs/python/tf/train/AdadeltaOptimizer)\n",
    "- RMSProp: [`tf.train.RMSPropOptimizer`](https://www.tensorflow.org/versions/r1.15/api_docs/python/tf/train/RMSPropOptimizer)\n",
    "- Adam: [`tf.train.AdamOptimizer`](https://www.tensorflow.org/versions/r1.15/api_docs/python/tf/train/AdamOptimizer)"
   ]
  },
  {
   "cell_type": "code",
   "execution_count": 89,
   "metadata": {},
   "outputs": [],
   "source": [
    "def select_optimizer(optimizer='GradientDescent'):\n",
    "    \"\"\"Select the optimizer\n",
    "    \n",
    "    Available optimizers:\n",
    "    - GradientDescent\n",
    "    - Momentum\n",
    "    - Adagrad\n",
    "    - Adadelta\n",
    "    - RMSProp\n",
    "    - Adam\n",
    "    \n",
    "    Parameters\n",
    "    ----------\n",
    "    optimizer: str (default GradientDescent)\n",
    "        optimizer to select\n",
    "        \n",
    "    Returns\n",
    "    -------\n",
    "    tf.train.Optimizer\n",
    "        Optimizer object\n",
    "    \"\"\"\n",
    "    if optimizer == 'GradientDescent':\n",
    "        return tf.train.GradientDescentOptimizer\n",
    "    elif optimizer == 'Momentum':\n",
    "        return tf.train.MomentumOptimizer\n",
    "    elif optimizer == 'Adagrad':\n",
    "        return tf.train.AdagradOptimizer\n",
    "    elif optimizer == 'Adadelta':\n",
    "        return tf.train.AdadeltaOptimizer\n",
    "    elif optimizer == 'RMSProp':\n",
    "        return tf.train.RMSPropOptimizer\n",
    "    elif optimizer == 'Adam':\n",
    "        return tf.train.AdamOptimizer\n",
    "    \n",
    "    raise ValueError('Optimizer choosen not available please select a valid one')\n",
    "    \n",
    "    return None"
   ]
  },
  {
   "cell_type": "code",
   "execution_count": 90,
   "metadata": {},
   "outputs": [
    {
     "data": {
      "text/plain": [
       "tensorflow.python.training.adam.AdamOptimizer"
      ]
     },
     "execution_count": 90,
     "metadata": {},
     "output_type": "execute_result"
    }
   ],
   "source": [
    "select_optimizer(optimizer='Adam')"
   ]
  },
  {
   "cell_type": "markdown",
   "metadata": {},
   "source": [
    "### Tensorboard function"
   ]
  },
  {
   "cell_type": "code",
   "execution_count": null,
   "metadata": {},
   "outputs": [],
   "source": [
    "def create_tensorboard(sess, L, grads_and_vars, loss, name='dashboard'):\n",
    "    \"\"\"\n",
    "    \"\"\"\n",
    "    if not os.path.exists('summaries'):\n",
    "        os.mkdir('summaries')\n",
    "    if not os.path.exists(os.path.join('summaries',name)):\n",
    "        os.mkdir(os.path.join('summaries',name))\n",
    "\n",
    "    summ_writer = tf.summary.FileWriter(os.path.join('summaries',name), sess.graph)    \n",
    "    \n",
    "    # tf_loss_summary :     you feed in a value by means of a placeholder, \n",
    "    #                       whenever you need to publish this to the board\n",
    "    with tf.name_scope('performance'):\n",
    "        tf_loss_ph = tf.placeholder(tf.float32,shape=None,name='loss_summary')\n",
    "        tf_loss_summary = tf.summary.scalar('loss', tf_loss_ph)\n",
    "\n",
    "        \n",
    "    # tf_gradnorm_summary : this calculates the l2 norm of the gradients \n",
    "    #                       of the last layer of your neural network. \n",
    "    #                       Gradient norm is a good indicator of whether the weights \n",
    "    #                       of the neural network are being properly updated. \n",
    "    #                       A too small gradient norm can indicate vanishing gradient \n",
    "    #                       or a too large gradient can imply exploding gradient phenomenon.\n",
    "    for g, v in grads_and_vars:\n",
    "        if f'W{L-1}' in v.name:\n",
    "            with tf.name_scope('gradients'):\n",
    "                tf_last_grad_norm = tf.sqrt(tf.reduce_mean(g**2))\n",
    "                tf_gradnorm_summary = tf.summary.scalar('grad_norm', tf_last_grad_norm)\n",
    "                break\n",
    "                \n",
    "    performance_summaries = tf.summary.merge([tf_loss_summary])    \n",
    "    \n",
    "    return {\n",
    "        'writer': summ_writer, \n",
    "        'loss': tf_loss_ph, \n",
    "        'gradnorm': tf_gradnorm_summary,\n",
    "        'perf': performance_summaries\n",
    "    }"
   ]
  },
  {
   "cell_type": "markdown",
   "metadata": {},
   "source": [
    "### Generate NN with optimizer for back propagation"
   ]
  },
  {
   "cell_type": "code",
   "execution_count": 155,
   "metadata": {},
   "outputs": [],
   "source": [
    "def plot_cost(train_costs, test_costs=None):\n",
    "    \"\"\"Plot the cost every 5 epochs\n",
    "    \"\"\"\n",
    "    plt.plot(np.squeeze(train_costs), label='train')\n",
    "    if test_costs is not None:\n",
    "        plt.plot(np.squeeze(test_costs), label='test')\n",
    "    plt.ylabel('cost')\n",
    "    plt.xlabel('iterations (per fives)')\n",
    "    plt.title(\"Learning rate =\" + str(learning_rate))\n",
    "    plt.legend(loc=\"upper right\")\n",
    "    plt.show()\n",
    "    \n",
    "\n",
    "def fit(feed_dict_train, parameters, optimizer, grads_and_vars, loss, num_epochs,\n",
    "        epsilon, feed_dict_test, batch_size=None):\n",
    "    \"\"\"\n",
    "    \"\"\"\n",
    "    # TODO : implement batch size\n",
    "    \n",
    "    init = tf.global_variables_initializer()\n",
    "    train_costs = list()\n",
    "    test_costs = list()\n",
    "    num_epochs = 100000000 if num_epochs is None else num_epochs\n",
    "    L = parameters['L']\n",
    "    \n",
    "    with tf.Session() as sess:\n",
    "        sess.run(init)\n",
    "        \n",
    "        board = create_tensorboard(sess, L, grads_and_vars, loss, name='dashboard')\n",
    "        summ_writer = board['writer']\n",
    "        tf_loss_ph = board['loss']\n",
    "        tf_gradnorm_summary = board['gradnorm']\n",
    "        performance_summaries = board['perf']\n",
    "        \n",
    "        for epoch in range(num_epochs):\n",
    "            sess.run(optimizer, feed_dict=feed_dict_train)\n",
    "            \n",
    "            epoch_l_train, gn_summ = sess.run([loss, tf_gradnorm_summary], feed_dict=feed_dict_train)\n",
    "            epoch_l_test = sess.run(loss, feed_dict=feed_dict_test)\n",
    "            \n",
    "            summ = sess.run(performance_summaries, feed_dict={tf_loss_ph: epoch_l_train})\n",
    "            \n",
    "            summ_writer.add_summary(gn_summ, epoch)\n",
    "            summ_writer.add_summary(summ, epoch)\n",
    "\n",
    "            if epoch % display_freq == 0:\n",
    "                print (\"At epoch %i, train cost is: %f and test cost is: %f\" % (\n",
    "                    epoch, epoch_l_train, epoch_l_test))\n",
    "            if epoch % 5 == 0:\n",
    "                train_costs.append(epoch_l_train)\n",
    "                test_costs.append(epoch_l_test)\n",
    "                \n",
    "                # Early stopping\n",
    "                if len(train_costs) > 2:\n",
    "                    if train_costs[-2] - train_costs[-1] < epsilon:\n",
    "                        print('Stop at epoch %i.'% (epoch))\n",
    "                        break\n",
    "                \n",
    "        # Plot the cost\n",
    "        plot_cost(train_costs, test_costs)\n",
    "                \n",
    "        # lets save the parameters in a variable\n",
    "        del parameters['L']\n",
    "        parameters = sess.run(parameters)\n",
    "        print(\"Parameters have been trained!\")\n",
    "    \n",
    "    sess.close()\n",
    "    return parameters\n",
    "\n",
    "def neural_network(X_train, Y_train, X_test=None, Y_test=None,\n",
    "                   learning_rate=0.01, num_epochs=None, epsilon=0.0001, \n",
    "                   n_units=[1], activation='relu', loss_fn='RMSE', \n",
    "                   optimizer_name='Adam', display_freq=100):\n",
    "    \"\"\"\n",
    "    \n",
    "    Parameters\n",
    "    ----------\n",
    "    X_train: 2 dimensions array like \n",
    "        array shape (n_rows, n_features)\n",
    "    Y_train: array like\n",
    "        array shape (n_rows, 1)\n",
    "    X_test: 2 dimensions array like (optional)\n",
    "        array shape (n_rows, n_features)\n",
    "    Y_test: array like (optional)\n",
    "        array shape (n_rows, 1)\n",
    "    learning_rate: float\n",
    "        Learning rate for the model\n",
    "    num_epochs: int (optional)\n",
    "        number of epoch to train\n",
    "        If None then it stop if the cost difference\n",
    "        is less than epsilon\n",
    "    epsilon: float (default 0.0001)\n",
    "        threshold to stop learning\n",
    "    n_units: list (default [1])\n",
    "        list of units per layer\n",
    "    activation: str (default 'relu')\n",
    "        activation function for hidden layers\n",
    "    loss_fn: str (default RMSE)\n",
    "        loss function to compute\n",
    "    optimizer_name: str (default Adam)\n",
    "        optimizer to use\n",
    "    display_freq: int (default 100)\n",
    "        display frequency to follow the model learning\n",
    "    \n",
    "    Returns\n",
    "    -------\n",
    "    dict:\n",
    "        Dictionnary of the trained parameters\n",
    "    \"\"\"\n",
    "    \n",
    "    if type(X_train) == pd.DataFrame:\n",
    "        X_train = X_train.values\n",
    "        Y_train = Y_train.values.reshape(-1,1)\n",
    "        \n",
    "    if X_test is not None:\n",
    "        if type(X_test) == pd.DataFrame:\n",
    "            X_test = X_test.values\n",
    "            Y_test = Y_test.values.reshape(-1,1)\n",
    "    \n",
    "    # Reset graph\n",
    "    tf.reset_default_graph()\n",
    "    # Set seed\n",
    "    tf.set_random_seed(42)\n",
    "    \n",
    "    _, n_features = X_train.shape\n",
    "    \n",
    "    # Initialize placeholder    \n",
    "    X = tf.placeholder(tf.float32, shape=(None, n_features), name='X')\n",
    "    Y = tf.placeholder(tf.float32, shape=(None, 1), name='Y')\n",
    "    \n",
    "    # Initialize parameters\n",
    "    parameters = initialize_parameters(n_units, n_features, n_units_output=1)\n",
    "    \n",
    "    # Create forward propagation graphs\n",
    "    Y_pred = forward_propagation(X, parameters, activation)\n",
    "    \n",
    "    # Create loss computation graph\n",
    "    loss = compute_loss(Y_pred, Y, loss=loss_fn)\n",
    "    \n",
    "    # Create Optimizer \n",
    "    optimizer_obj = select_optimizer(optimizer_name)(learning_rate)\n",
    "    grads_and_vars = optimizer_obj.compute_gradients(loss)    \n",
    "    optimizer = optimizer_obj.minimize(loss)\n",
    "    \n",
    "    feed_dict_train = {X: X_train, Y: Y_train}\n",
    "    feed_dict_test = {X: X_test, Y: Y_test} if X_test is not None else None\n",
    "    \n",
    "    parameters = fit(feed_dict_train, parameters, optimizer, grads_and_vars, loss, \n",
    "                     num_epochs, epsilon, feed_dict_test)\n",
    "    \n",
    "    return parameters\n",
    "    "
   ]
  },
  {
   "cell_type": "markdown",
   "metadata": {},
   "source": [
    "### Test the training"
   ]
  },
  {
   "cell_type": "code",
   "execution_count": 156,
   "metadata": {
    "scrolled": false
   },
   "outputs": [
    {
     "name": "stdout",
     "output_type": "stream",
     "text": [
      "At epoch 0, train cost is: 4.325962 and test cost is: 4.346067\n",
      "At epoch 100, train cost is: 2.435147 and test cost is: 2.456405\n",
      "At epoch 200, train cost is: 1.530335 and test cost is: 1.545562\n",
      "At epoch 300, train cost is: 0.883988 and test cost is: 0.908920\n",
      "At epoch 400, train cost is: 0.467912 and test cost is: 0.513343\n",
      "At epoch 500, train cost is: 0.356832 and test cost is: 0.402809\n",
      "At epoch 600, train cost is: 0.346679 and test cost is: 0.388927\n",
      "Stop at epoch 630.\n"
     ]
    },
    {
     "data": {
      "image/png": "[encoded data removed]",
      "text/plain": [
       "<Figure size 432x288 with 1 Axes>"
      ]
     },
     "metadata": {
      "needs_background": "light"
     },
     "output_type": "display_data"
    },
    {
     "name": "stdout",
     "output_type": "stream",
     "text": [
      "Parameters have been trained!\n"
     ]
    }
   ],
   "source": [
    "# Choose hyper parameters\n",
    "learning_rate = 0.001\n",
    "num_epochs = None \n",
    "epsilon = 0.0001\n",
    "n_units = [10,10,10]\n",
    "activation = 'relu' \n",
    "loss_fn = 'RMSE log'\n",
    "optimizer = 'Adam'\n",
    "# batch_size to implement\n",
    "\n",
    "# Helper parameters\n",
    "display_freq = 100\n",
    "\n",
    "parameters = neural_network(X_train, y_train, X_test, y_test,\n",
    "                           learning_rate, num_epochs, epsilon, \n",
    "                           n_units, activation, loss_fn, optimizer,\n",
    "                           display_freq)"
   ]
  },
  {
   "cell_type": "code",
   "execution_count": 1,
   "metadata": {},
   "outputs": [],
   "source": [
    "# !tensorboard --logdir=\"./summaries/dashboard/\" --port 6006"
   ]
  },
  {
   "cell_type": "markdown",
   "metadata": {},
   "source": [
    "### Re-use trained paramaters to predict"
   ]
  },
  {
   "cell_type": "code",
   "execution_count": null,
   "metadata": {},
   "outputs": [],
   "source": [
    "\n",
    "\n",
    "def predict(X, parameters):\n",
    "    init = tf.global_variables_initializer()\n",
    "\n",
    "    X_tf = tf.placeholder(tf.float32, shape=(None, X.shape[1]), name='X')\n",
    "    Y_pred = forward_propagation(X_tf, parameters)\n",
    "    \n",
    "    with tf.Session() as sess:\n",
    "        sess.run(init)\n",
    "        \n",
    "        preds = sess.run(Y_pred, feed_dict={X_tf: X})\n",
    "                   \n",
    "    sess.close()\n",
    "    return preds\n",
    "\n",
    "\n",
    "def test_model(X_train, Y_train, X_test, Y_test, parameters):\n",
    "    if type(X_train) == pd.DataFrame:\n",
    "        X_train = X_train.values\n",
    "        Y_train = Y_train.values.reshape(-1,1)\n",
    "        X_test = X_test.values\n",
    "        Y_test = Y_test.values.reshape(-1,1)    \n",
    "\n",
    "    pred_train = predict(X_train, parameters)\n",
    "    pred_test = predict(X_test, parameters)\n",
    "    \n",
    "    train_cost = np.sqrt(mean_squared_log_error(Y_train, pred_train ))\n",
    "    test_cost = np.sqrt(mean_squared_log_error(Y_test, pred_test ))\n",
    "\n",
    "    print (\"Train score:\", train_cost)\n",
    "    print (\"Test score:\", test_cost)\n",
    "    \n",
    "\n",
    "        "
   ]
  }
 ],
 "metadata": {
  "kernelspec": {
   "display_name": "Python 3",
   "language": "python",
   "name": "python3"
  },
  "language_info": {
   "codemirror_mode": {
    "name": "ipython",
    "version": 3
   },
   "file_extension": ".py",
   "mimetype": "text/x-python",
   "name": "python",
   "nbconvert_exporter": "python",
   "pygments_lexer": "ipython3",
   "version": "3.6.8"
  }
 },
 "nbformat": 4,
 "nbformat_minor": 2
}
